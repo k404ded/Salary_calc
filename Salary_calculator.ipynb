{
 "cells": [
  {
   "cell_type": "code",
   "execution_count": 14,
   "id": "e2b8118f-9792-45a0-9af8-ed05ea287233",
   "metadata": {},
   "outputs": [
    {
     "name": "stdin",
     "output_type": "stream",
     "text": [
      "Enter your salary:  6000\n",
      "Enter the number of holidays:  4\n",
      "Enter the number of overtime hours:  5\n"
     ]
    },
    {
     "name": "stdout",
     "output_type": "stream",
     "text": [
      "Your excess holidays are: 2\n",
      "Amount deducted from your salary is: 400.0\n",
      "Your salary per day is: 200.0\n",
      "Your overtime amount is: 750\n",
      "Your total salary for the month is: 6350.0\n"
     ]
    }
   ],
   "source": [
    "# Salary Calculator Prototype\n",
    "# 2 leaves are paid leaves\n",
    "\n",
    "# Input salary, holidays, and overtime\n",
    "salary = int(input(\"Enter your salary: \"))\n",
    "holidays = int(input(\"Enter the number of holidays: \"))\n",
    "overtime = int(input(\"Enter the number of overtime hours: \"))\n",
    "\n",
    "# Constants\n",
    "salary_per_day = salary / 30\n",
    "overtime_rate = 150  # Overtime pay per hour\n",
    "overtime_amount = overtime * overtime_rate\n",
    "\n",
    "# Initialize amount deducted\n",
    "amount_deducted = 0\n",
    "\n",
    "# Calculate excess holidays\n",
    "if holidays > 2:\n",
    "    excess_holiday = holidays - 2\n",
    "    amount_deducted = excess_holiday * salary_per_day\n",
    "    print(\"Your excess holidays are:\", excess_holiday)\n",
    "    print(\"Amount deducted from your salary is:\", amount_deducted)\n",
    "\n",
    "# Calculate total salary\n",
    "total_salary = salary - amount_deducted + overtime_amount\n",
    "\n",
    "# Output results\n",
    "print(\"Your salary per day is:\", salary_per_day)\n",
    "print(\"Your overtime amount is:\", overtime_amount)\n",
    "print(\"Your total salary for the month is:\", total_salary)"
   ]
  }
 ],
 "metadata": {
  "kernelspec": {
   "display_name": "Python 3 (ipykernel)",
   "language": "python",
   "name": "python3"
  },
  "language_info": {
   "codemirror_mode": {
    "name": "ipython",
    "version": 3
   },
   "file_extension": ".py",
   "mimetype": "text/x-python",
   "name": "python",
   "nbconvert_exporter": "python",
   "pygments_lexer": "ipython3",
   "version": "3.12.4"
  }
 },
 "nbformat": 4,
 "nbformat_minor": 5
}
